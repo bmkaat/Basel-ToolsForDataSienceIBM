{
 "cells": [
  {
   "cell_type": "markdown",
   "id": "e63085f9-032c-40dd-aafd-12ba86dbe489",
   "metadata": {},
   "source": [
    "# Data Science Tools and Ecosystem"
   ]
  },
  {
   "cell_type": "markdown",
   "id": "03e511eb-20f7-473d-afcd-332915d2feca",
   "metadata": {},
   "source": [
    "in this notebook, Data Science Tools and Ecosystem are summarized"
   ]
  },
  {
   "attachments": {},
   "cell_type": "markdown",
   "id": "3a5eb70c-1c4c-4c93-9b29-4b9a696e645a",
   "metadata": {},
   "source": [
    "**Objectives:**\n",
    "\n",
    "- list languages used in DS\n",
    "- list libraries used in DS\n",
    "- list open source environments used in DS\n",
    "- show arithmetic expressions in Python "
   ]
  },
  {
   "cell_type": "markdown",
   "id": "b2da4aec-bbbd-4788-982b-64c02ee6a4c6",
   "metadata": {},
   "source": [
    "Some of the popular languages that Data Scientists use are:\n",
    "\n",
    "1. Python\n",
    "2. R\n",
    "3. Julia\n",
    "4. Scala"
   ]
  },
  {
   "cell_type": "markdown",
   "id": "86aa7ca1-3cc9-4449-af22-1a747c1f35e9",
   "metadata": {},
   "source": [
    "Some of the commonly used libraries used by Data Scientists include:\n",
    "\n",
    "1. matplotlib\n",
    "2. ggplot\n",
    "3. plotly\n",
    "4. NumPy"
   ]
  },
  {
   "cell_type": "markdown",
   "id": "a713df98-f1ad-42a6-ad63-cd36e97fde96",
   "metadata": {},
   "source": [
    "|Data Science Tools|\n",
    "|------------------|\n",
    "|VScode|\n",
    "|RStudio|\n",
    "|JupyterLab|"
   ]
  },
  {
   "cell_type": "markdown",
   "id": "8bb365a3-6ce2-4488-9f18-9c415ae68051",
   "metadata": {},
   "source": [
    "### Below are a few examples of evaluating arithmetic expressions in python\n",
    "\n",
    "3+5\\\n",
    "3-5\\\n",
    "3*5\\\n",
    "3/5"
   ]
  },
  {
   "cell_type": "code",
   "execution_count": 1,
   "id": "5d11415d-6996-42c1-8d98-bf88705189f6",
   "metadata": {
    "tags": []
   },
   "outputs": [
    {
     "data": {
      "text/plain": [
       "17"
      ]
     },
     "execution_count": 1,
     "metadata": {},
     "output_type": "execute_result"
    }
   ],
   "source": [
    "# This is a simple arithmetic expression to multiply then add integers\n",
    "\n",
    "(3*4)+5"
   ]
  },
  {
   "cell_type": "code",
   "execution_count": 1,
   "id": "ce37df7e-b16e-4627-9956-123a212abd87",
   "metadata": {
    "tags": []
   },
   "outputs": [
    {
     "data": {
      "text/plain": [
       "3.3333333333333335"
      ]
     },
     "execution_count": 1,
     "metadata": {},
     "output_type": "execute_result"
    }
   ],
   "source": [
    "# This will convert 200 minutes to hours by diving by 60\n",
    "\n",
    "200/60"
   ]
  },
  {
   "cell_type": "markdown",
   "id": "179bea4e-5831-4563-9b31-4c87e5902856",
   "metadata": {},
   "source": [
    "## Author:\n",
    "Basel"
   ]
  }
 ],
 "metadata": {
  "kernelspec": {
   "display_name": "Python",
   "language": "python",
   "name": "conda-env-python-py"
  },
  "language_info": {
   "codemirror_mode": {
    "name": "ipython",
    "version": 3
   },
   "file_extension": ".py",
   "mimetype": "text/x-python",
   "name": "python",
   "nbconvert_exporter": "python",
   "pygments_lexer": "ipython3",
   "version": "3.7.12"
  }
 },
 "nbformat": 4,
 "nbformat_minor": 5
}
